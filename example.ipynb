{
 "cells": [
  {
   "cell_type": "code",
   "execution_count": 1,
   "metadata": {},
   "outputs": [
    {
     "name": "stdout",
     "output_type": "stream",
     "text": [
      "Crossvalidating...\n",
      "   Fold  1  of  10\n",
      "   Fold  2  of  10\n",
      "   Fold  3  of  10\n",
      "   Fold  4  of  10\n",
      "   Fold  5  of  10\n",
      "   Fold  6  of  10\n",
      "   Fold  7  of  10\n",
      "   Fold  8  of  10\n",
      "   Fold  9  of  10\n",
      "   Fold  10  of  10\n",
      "Crossvalidation accuracy: 0.980\n",
      "Training final model on all data...\n",
      "Training accuracy: 0.980\n"
     ]
    }
   ],
   "source": [
    "import numpy as np\n",
    "import pandas as pd\n",
    "import scipy.io as sio\n",
    "import bayes_classifier as bc\n",
    "\n",
    "# load data\n",
    "dat = sio.loadmat('fisherIrisData.mat')\n",
    "X = pd.DataFrame(dat['X'])\n",
    "y = pd.DataFrame(dat['y'])\n",
    "y = y[0]\n",
    "\n",
    "# initialize model\n",
    "model = bc.bayes_classifier(dist_type='shared_full',prior_type='equal')\n",
    "\n",
    "# cross-validation \n",
    "model.crossvalidate(X,y,rand_seed=0)\n",
    "\n",
    "# training accuracy\n",
    "training_acc = model.accuracy(X,y)\n",
    "print('Training accuracy: {:1.3f}'.format(training_acc))\n"
   ]
  },
  {
   "cell_type": "code",
   "execution_count": null,
   "metadata": {},
   "outputs": [],
   "source": []
  },
  {
   "cell_type": "code",
   "execution_count": null,
   "metadata": {},
   "outputs": [],
   "source": []
  }
 ],
 "metadata": {
  "kernelspec": {
   "display_name": "Python 3",
   "language": "python",
   "name": "python3"
  },
  "language_info": {
   "codemirror_mode": {
    "name": "ipython",
    "version": 3
   },
   "file_extension": ".py",
   "mimetype": "text/x-python",
   "name": "python",
   "nbconvert_exporter": "python",
   "pygments_lexer": "ipython3",
   "version": "3.7.4"
  }
 },
 "nbformat": 4,
 "nbformat_minor": 2
}
